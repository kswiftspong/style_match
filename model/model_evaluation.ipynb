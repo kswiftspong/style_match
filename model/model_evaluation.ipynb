{
 "cells": [
  {
   "cell_type": "markdown",
   "metadata": {},
   "source": [
    "### Imports"
   ]
  },
  {
   "cell_type": "code",
   "execution_count": 1,
   "metadata": {},
   "outputs": [
    {
     "name": "stderr",
     "output_type": "stream",
     "text": [
      "Using TensorFlow backend.\n"
     ]
    }
   ],
   "source": [
    "from keras.preprocessing.image import ImageDataGenerator, load_img\n",
    "from keras.models import Sequential\n",
    "from keras.layers import Conv2D, MaxPooling2D, GlobalAveragePooling2D\n",
    "from keras.layers import Activation, Dropout, Flatten, Dense\n",
    "from keras import backend as K\n",
    "from keras import applications\n",
    "from keras.models import Model\n",
    "from tensorflow.keras.models import load_model\n",
    "\n",
    "from sklearn.metrics import classification_report, confusion_matrix\n",
    "from sklearn.utils.multiclass import unique_labels\n",
    "import matplotlib.pyplot as plt\n",
    "import numpy as np\n",
    "import pandas as pd\n",
    "import seaborn as sns\n",
    "from typing import List, Optional\n",
    "from mlxtend.plotting import plot_confusion_matrix"
   ]
  },
  {
   "cell_type": "markdown",
   "metadata": {},
   "source": [
    "### Get model predictions for test set"
   ]
  },
  {
   "cell_type": "code",
   "execution_count": 2,
   "metadata": {},
   "outputs": [],
   "source": [
    "def get_test_predictions(model, test_data_dir):\n",
    "    img_width, img_height = 224, 224\n",
    "    epochs = 40\n",
    "    batch_size = 16\n",
    "    \n",
    "    # Create a test generator for prediction\n",
    "    test_datagen = ImageDataGenerator(rescale=1./255)\n",
    "    \n",
    "    test_generator = test_datagen.flow_from_directory(\n",
    "        test_data_dir,\n",
    "        target_size=(img_width, img_height),\n",
    "        batch_size=batch_size,\n",
    "        class_mode='categorical',\n",
    "        shuffle=False)\n",
    "\n",
    "    # Get the predictions from the model using the generator\n",
    "    predictions = model.predict_generator(test_generator, steps = test_generator.samples/test_generator.batch_size, verbose=1)\n",
    "    predicted_classes = np.argmax(predictions,axis=1)\n",
    "    \n",
    "    return predicted_classes, predictions, test_generator"
   ]
  },
  {
   "cell_type": "markdown",
   "metadata": {},
   "source": [
    "### Get evaluation metrics"
   ]
  },
  {
   "cell_type": "code",
   "execution_count": 4,
   "metadata": {},
   "outputs": [],
   "source": [
    "def evaluation(predicted_classes, predictions, test_generator, test_data_dir): \n",
    "    \n",
    "    # Get the filenames \n",
    "    fnames = test_generator.filenames\n",
    "\n",
    "    # Get the ground truth \n",
    "    ground_truth = test_generator.classes\n",
    "\n",
    "    # Get class labels\n",
    "    label2index = test_generator.class_indices\n",
    "\n",
    "    # Get mapping from index to class labels\n",
    "    index2label = dict((v,k) for k,v in label2index.items())\n",
    "    \n",
    "    # Get ordered list of class labels\n",
    "    ordered_class_labels = [index2label[i] for i in range(len(index2label.keys()))]\n",
    "        \n",
    "    # Get confusion matrix\n",
    "    cm = confusion_matrix(ground_truth, predicted_classes)\n",
    "\n",
    "    # Display confusion matrix\n",
    "    fig, ax = plot_confusion_matrix(conf_mat = cm, class_names = ordered_class_labels, figsize=(8, 8))\n",
    "    ax.set_xticklabels(ax.get_xmajorticklabels(), fontsize = 16)\n",
    "    ax.set_yticklabels(ax.get_ymajorticklabels(), fontsize = 16)\n",
    "    ax.set_xlabel('Predicted Label', fontsize = 16)\n",
    "    ax.set_ylabel('True Label', fontsize = 16)\n",
    "    ax.set_ylim(len(cm)-0.5, -0.5)\n",
    "    sns.set(font_scale=1.5)\n",
    "    plt.show()\n",
    "    \n",
    "    # Display classification report\n",
    "    print('Classification Report')\n",
    "    print(classification_report(ground_truth, predicted_classes, target_names = ordered_class_labels))\n",
    "\n",
    "    # Display number of errors\n",
    "    errors = np.where(predicted_classes != ground_truth)[0]\n",
    "    print(\"No of errors = {}/{}\".format(len(errors), test_generator.samples))\n",
    "    "
   ]
  },
  {
   "cell_type": "markdown",
   "metadata": {},
   "source": [
    "### Evaluate VGG16 Transfer learned model"
   ]
  },
  {
   "cell_type": "code",
   "execution_count": 5,
   "metadata": {},
   "outputs": [
    {
     "name": "stdout",
     "output_type": "stream",
     "text": [
      "Found 312 images belonging to 4 classes.\n",
      "WARNING:tensorflow:From <ipython-input-2-ef92da1fe183>:17: Model.predict_generator (from tensorflow.python.keras.engine.training) is deprecated and will be removed in a future version.\n",
      "Instructions for updating:\n",
      "Please use Model.predict, which supports generators.\n",
      "20/19 [==============================] - 23s 1s/step\n"
     ]
    },
    {
     "data": {
      "image/png": "[encoded data removed]",
      "text/plain": [
       "<Figure size 576x576 with 1 Axes>"
      ]
     },
     "metadata": {
      "needs_background": "light"
     },
     "output_type": "display_data"
    },
    {
     "name": "stdout",
     "output_type": "stream",
     "text": [
      "Classification Report\n",
      "              precision    recall  f1-score   support\n",
      "\n",
      "contemporary       0.64      0.68      0.66        72\n",
      "  midcentury       0.85      0.63      0.72        79\n",
      " traditional       0.89      0.76      0.82        78\n",
      "transitional       0.63      0.84      0.72        83\n",
      "\n",
      "    accuracy                           0.73       312\n",
      "   macro avg       0.75      0.73      0.73       312\n",
      "weighted avg       0.75      0.73      0.73       312\n",
      "\n",
      "No of errors = 84/312\n"
     ]
    }
   ],
   "source": [
    "model = load_model('model.h5')\n",
    "test_data_dir = '../data/split_images/test'\n",
    "\n",
    "predicted_classes, predictions, test_generator = get_test_predictions(model, test_data_dir)\n",
    "\n",
    "evaluation(predicted_classes, predictions, test_generator, test_data_dir)"
   ]
  }
 ],
 "metadata": {
  "kernelspec": {
   "display_name": "Python 3",
   "language": "python",
   "name": "python3"
  },
  "language_info": {
   "codemirror_mode": {
    "name": "ipython",
    "version": 3
   },
   "file_extension": ".py",
   "mimetype": "text/x-python",
   "name": "python",
   "nbconvert_exporter": "python",
   "pygments_lexer": "ipython3",
   "version": "3.7.4"
  }
 },
 "nbformat": 4,
 "nbformat_minor": 4
}
